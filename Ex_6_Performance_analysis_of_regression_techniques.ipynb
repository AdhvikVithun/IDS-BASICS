{
  "cells": [
    {
      "cell_type": "markdown",
      "id": "9c930903",
      "metadata": {
        "id": "9c930903"
      },
      "source": [
        "# 1. Simple Linear Regression"
      ]
    },
    {
      "cell_type": "code",
      "source": [],
      "metadata": {
        "id": "QpQZ_yqOslmB"
      },
      "id": "QpQZ_yqOslmB",
      "execution_count": null,
      "outputs": []
    },
    {
      "cell_type": "code",
      "execution_count": null,
      "id": "94e73f73",
      "metadata": {
        "id": "94e73f73"
      },
      "outputs": [],
      "source": [
        "import pandas as pd\n",
        "import numpy as np\n",
        "import matplotlib.pyplot as plt\n",
        "import seaborn as sns\n",
        "sns.set(color_codes=True)\n",
        "from sklearn.metrics import mean_squared_error, r2_score"
      ]
    },
    {
      "cell_type": "code",
      "execution_count": null,
      "id": "e4d469e7",
      "metadata": {
        "id": "e4d469e7",
        "outputId": "7debc251-9383-442e-e39c-0028b3a9f89e"
      },
      "outputs": [
        {
          "data": {
            "text/html": [
              "<div>\n",
              "<style scoped>\n",
              "    .dataframe tbody tr th:only-of-type {\n",
              "        vertical-align: middle;\n",
              "    }\n",
              "\n",
              "    .dataframe tbody tr th {\n",
              "        vertical-align: top;\n",
              "    }\n",
              "\n",
              "    .dataframe thead th {\n",
              "        text-align: right;\n",
              "    }\n",
              "</style>\n",
              "<table border=\"1\" class=\"dataframe\">\n",
              "  <thead>\n",
              "    <tr style=\"text-align: right;\">\n",
              "      <th></th>\n",
              "      <th>SAT Score</th>\n",
              "      <th>GPA</th>\n",
              "    </tr>\n",
              "  </thead>\n",
              "  <tbody>\n",
              "    <tr>\n",
              "      <th>0</th>\n",
              "      <td>1600</td>\n",
              "      <td>4.0</td>\n",
              "    </tr>\n",
              "    <tr>\n",
              "      <th>1</th>\n",
              "      <td>1593</td>\n",
              "      <td>4.0</td>\n",
              "    </tr>\n",
              "    <tr>\n",
              "      <th>2</th>\n",
              "      <td>1587</td>\n",
              "      <td>4.0</td>\n",
              "    </tr>\n",
              "    <tr>\n",
              "      <th>3</th>\n",
              "      <td>1580</td>\n",
              "      <td>4.0</td>\n",
              "    </tr>\n",
              "    <tr>\n",
              "      <th>4</th>\n",
              "      <td>1573</td>\n",
              "      <td>4.0</td>\n",
              "    </tr>\n",
              "  </tbody>\n",
              "</table>\n",
              "</div>"
            ],
            "text/plain": [
              "   SAT Score  GPA\n",
              "0       1600  4.0\n",
              "1       1593  4.0\n",
              "2       1587  4.0\n",
              "3       1580  4.0\n",
              "4       1573  4.0"
            ]
          },
          "execution_count": 21,
          "metadata": {},
          "output_type": "execute_result"
        }
      ],
      "source": [
        " # STEP2: IMPORTING THE DATASET\n",
        "dataset = pd.read_csv('SAT to GPA.csv')\n",
        "dataset.head()"
      ]
    },
    {
      "cell_type": "code",
      "execution_count": null,
      "id": "054f0465",
      "metadata": {
        "id": "054f0465",
        "outputId": "152c0c0e-1acd-4b2d-ba88-f61b2a9dc24a"
      },
      "outputs": [
        {
          "name": "stdout",
          "output_type": "stream",
          "text": [
            "The shape of the Dataset\n",
            "(181, 2)\n",
            " \n",
            "The staistical Inference of the dataset\n",
            "         SAT Score         GPA\n",
            "count   181.000000  181.000000\n",
            "mean   1000.000000    2.617901\n",
            "std     349.293573    1.559243\n",
            "min     400.000000    0.000000\n",
            "25%     700.000000    1.390000\n",
            "50%    1000.000000    3.370000\n",
            "75%    1300.000000    3.970000\n",
            "max    1600.000000    4.000000\n",
            " \n",
            "Datatypes in the dataset\n",
            "<class 'pandas.core.frame.DataFrame'>\n",
            "RangeIndex: 181 entries, 0 to 180\n",
            "Data columns (total 2 columns):\n",
            "SAT Score    181 non-null int64\n",
            "GPA          181 non-null float64\n",
            "dtypes: float64(1), int64(1)\n",
            "memory usage: 3.0 KB\n",
            "None\n",
            " \n"
          ]
        },
        {
          "data": {
            "image/png": "[encoded data removed]",
            "text/plain": [
              "<Figure size 720x576 with 2 Axes>"
            ]
          },
          "metadata": {},
          "output_type": "display_data"
        }
      ],
      "source": [
        "# Step3 EDA\n",
        "# STEP3: EXPLORATORY DATA ANALYSIS\n",
        "print(\"The shape of the Dataset\")\n",
        "print(dataset.shape)\n",
        "print(\" \")\n",
        "\n",
        "print(\"The staistical Inference of the dataset\")\n",
        "print(dataset.describe())\n",
        "print(\" \")\n",
        "\n",
        "print(\"Datatypes in the dataset\")\n",
        "print(dataset.info())\n",
        "print(\" \")\n",
        "\n",
        "fig, ax = plt.subplots(2,1, figsize=(10,8))\n",
        "\n",
        "sns.boxplot(ax= ax[0],x=dataset['SAT Score'])\n",
        "sns.boxplot(ax=ax[1],x=dataset['GPA'])\n",
        "plt.show()"
      ]
    },
    {
      "cell_type": "code",
      "execution_count": null,
      "id": "aa4c08d0",
      "metadata": {
        "id": "aa4c08d0",
        "outputId": "2b0ba040-bc98-41ce-f281-7609227d582b"
      },
      "outputs": [
        {
          "name": "stdout",
          "output_type": "stream",
          "text": [
            "number of duplicate rows = 0\n"
          ]
        },
        {
          "data": {
            "text/plain": [
              "SAT Score    0\n",
              "GPA          0\n",
              "dtype: int64"
            ]
          },
          "execution_count": 23,
          "metadata": {},
          "output_type": "execute_result"
        }
      ],
      "source": [
        "# STEP4: DATA PREPROCESSING\n",
        "# duplicate data\n",
        "dups=dataset.duplicated() # not all boolean values visible\n",
        "print('number of duplicate rows = %d' % (dups.sum())) # alternatively sum(dups)\n",
        "dataset.drop_duplicates(inplace=True) # drop duplicates\n",
        "\n",
        "# missing values\n",
        "dataset.isnull().sum() # no missing values\n",
        "# in case there are,  impute them"
      ]
    },
    {
      "cell_type": "code",
      "execution_count": null,
      "id": "d08912a9",
      "metadata": {
        "id": "d08912a9"
      },
      "outputs": [],
      "source": [
        "# no categorical data. In case there is, then you have to encode categorical data\n",
        "\n",
        "# STEP5: SEGGREGATING THE FEATURE MATRIX AND TARGET\n",
        "X = dataset.iloc[:, :-1] #Take all the rows and all the columns except last one\n",
        "y = dataset.iloc[:, -1] #Take all the rows and the last column as the result\n",
        "\n",
        "#train=dataset.iloc"
      ]
    },
    {
      "cell_type": "code",
      "execution_count": null,
      "id": "a26665fb",
      "metadata": {
        "id": "a26665fb",
        "outputId": "121afc96-a34a-4bfc-f994-f871d27b248f"
      },
      "outputs": [
        {
          "name": "stdout",
          "output_type": "stream",
          "text": [
            "X_train (144, 1)\n",
            "X_test (37, 1)\n",
            "train_labels (144,)\n",
            "test_labels (37,)\n"
          ]
        }
      ],
      "source": [
        "# STEP6: TRAIN (X_train & Y_train)- TEST (X test & y_test)SPLIT\n",
        "from sklearn.model_selection import train_test_split\n",
        "X_train, X_test, y_train, y_test = train_test_split(X, y, test_size = 0.2, random_state = 0) # ft returns 4 subsets\n",
        "\n",
        "# ideally do cross-validation\n",
        "\n",
        "\n",
        "\n",
        "# dimensions of train and test data\n",
        "print('X_train', X_train.shape)\n",
        "print('X_test', X_test.shape)\n",
        "print('train_labels', y_train.shape)\n",
        "print('test_labels', y_test.shape)\n",
        "\n",
        "# description of train and test data\n",
        "#X_train.describe()\n",
        "#X_test.describe()\n",
        "#y_train.describe()\n",
        "#y_test.describe()"
      ]
    },
    {
      "cell_type": "code",
      "execution_count": null,
      "id": "c560625f",
      "metadata": {
        "id": "c560625f",
        "outputId": "d720439f-1af7-4ada-fa07-dc75ba3a9ced"
      },
      "outputs": [
        {
          "name": "stdout",
          "output_type": "stream",
          "text": [
            "slope: [0.00410457]\n",
            "y-intercept:  -1.4661272685831253\n"
          ]
        }
      ],
      "source": [
        "## STEP7: BUILDING SLR MODEL\n",
        "from sklearn.linear_model import LinearRegression\n",
        "regressor = LinearRegression() # object regressor is created\n",
        "regressor.fit(X_train, y_train) # Fitting Linear Regression to the Training set\n",
        "\n",
        "# Regression coefficients\n",
        "print('slope:', regressor.coef_)\n",
        "print(\"y-intercept: \", regressor.intercept_)\n",
        "# reg model is GPA = m SAT + c"
      ]
    },
    {
      "cell_type": "code",
      "execution_count": null,
      "id": "f8c8b1e6",
      "metadata": {
        "id": "f8c8b1e6"
      },
      "outputs": [],
      "source": [
        "# STEP8: PREDICTING ON TEST DATA\n",
        "y_pred = regressor.predict(X_test)"
      ]
    },
    {
      "cell_type": "code",
      "execution_count": null,
      "id": "a67ee862",
      "metadata": {
        "id": "a67ee862",
        "outputId": "1f294448-b051-4f9e-b6f1-15aee741e767"
      },
      "outputs": [
        {
          "data": {
            "image/png": "[encoded data removed]",
            "text/plain": [
              "<Figure size 432x288 with 1 Axes>"
            ]
          },
          "metadata": {},
          "output_type": "display_data"
        }
      ],
      "source": [
        "# STEP9: DATA VISUALIZATION\n",
        "\n",
        "# Regression plot for training set results\n",
        "dataframe_training = pd.DataFrame() # creating empty dataframe\n",
        "dataframe_training['SAT Score'] = X_train['SAT Score'] # adding SAT to this dataframe\n",
        "dataframe_training['GPA'] = y_train # adding GPA to this dataframe\n",
        "ax = sns.regplot(x=\"SAT Score\", y=\"GPA\", data= dataframe_training) # shadow line around regression line is CI"
      ]
    },
    {
      "cell_type": "code",
      "execution_count": null,
      "id": "15e7c19f",
      "metadata": {
        "id": "15e7c19f",
        "outputId": "eef9a731-8fa6-43a5-8e7e-67093a0134dd"
      },
      "outputs": [
        {
          "data": {
            "image/png": "[encoded data removed]",
            "text/plain": [
              "<Figure size 432x288 with 1 Axes>"
            ]
          },
          "metadata": {},
          "output_type": "display_data"
        }
      ],
      "source": [
        "# Regression plot for test set results\n",
        "dataframe_test = pd.DataFrame()\n",
        "dataframe_test['SAT Score'] = X_test['SAT Score']\n",
        "dataframe_test['GPA'] = y_test\n",
        "ax = sns.regplot(x=\"SAT Score\", y=\"GPA\", data= dataframe_test)"
      ]
    },
    {
      "cell_type": "code",
      "execution_count": null,
      "id": "5c17e8ee",
      "metadata": {
        "id": "5c17e8ee",
        "outputId": "391feb17-eea6-4d5a-9ba1-13d4001b36d1"
      },
      "outputs": [
        {
          "name": "stdout",
          "output_type": "stream",
          "text": [
            "Mean squared error: 0.3566707857170987\n",
            "R square: 0.86422313614636\n"
          ]
        }
      ],
      "source": [
        "# STEP10: MODEL EVALUATION: MSE, R2\n",
        "print(\"Mean squared error: {}\".format(mean_squared_error(y_test, y_pred))) # comparing y_pred with y_test\n",
        "print(\"R square: {}\".format(r2_score(y_test, y_pred)))\n"
      ]
    },
    {
      "cell_type": "markdown",
      "id": "1c59c200",
      "metadata": {
        "id": "1c59c200"
      },
      "source": [
        "# 2. Multiple Linear Regression"
      ]
    },
    {
      "cell_type": "code",
      "execution_count": null,
      "id": "8a5543f8",
      "metadata": {
        "id": "8a5543f8"
      },
      "outputs": [],
      "source": [
        "import pandas as pd\n",
        "#importing datasets\n",
        "data_set= pd.read_csv('advertising.csv')"
      ]
    },
    {
      "cell_type": "code",
      "execution_count": null,
      "id": "9c4bcdb9",
      "metadata": {
        "id": "9c4bcdb9",
        "outputId": "d9a31839-a9bb-4e94-a435-aee74c65a1b0"
      },
      "outputs": [
        {
          "data": {
            "text/html": [
              "<div>\n",
              "<style scoped>\n",
              "    .dataframe tbody tr th:only-of-type {\n",
              "        vertical-align: middle;\n",
              "    }\n",
              "\n",
              "    .dataframe tbody tr th {\n",
              "        vertical-align: top;\n",
              "    }\n",
              "\n",
              "    .dataframe thead th {\n",
              "        text-align: right;\n",
              "    }\n",
              "</style>\n",
              "<table border=\"1\" class=\"dataframe\">\n",
              "  <thead>\n",
              "    <tr style=\"text-align: right;\">\n",
              "      <th></th>\n",
              "      <th>TV</th>\n",
              "      <th>Radio</th>\n",
              "      <th>Newspaper</th>\n",
              "      <th>Sales</th>\n",
              "    </tr>\n",
              "  </thead>\n",
              "  <tbody>\n",
              "    <tr>\n",
              "      <th>0</th>\n",
              "      <td>230.1</td>\n",
              "      <td>37.8</td>\n",
              "      <td>69.2</td>\n",
              "      <td>22.1</td>\n",
              "    </tr>\n",
              "    <tr>\n",
              "      <th>1</th>\n",
              "      <td>44.5</td>\n",
              "      <td>39.3</td>\n",
              "      <td>45.1</td>\n",
              "      <td>10.4</td>\n",
              "    </tr>\n",
              "    <tr>\n",
              "      <th>2</th>\n",
              "      <td>17.2</td>\n",
              "      <td>45.9</td>\n",
              "      <td>69.3</td>\n",
              "      <td>12.0</td>\n",
              "    </tr>\n",
              "    <tr>\n",
              "      <th>3</th>\n",
              "      <td>151.5</td>\n",
              "      <td>41.3</td>\n",
              "      <td>58.5</td>\n",
              "      <td>16.5</td>\n",
              "    </tr>\n",
              "    <tr>\n",
              "      <th>4</th>\n",
              "      <td>180.8</td>\n",
              "      <td>10.8</td>\n",
              "      <td>58.4</td>\n",
              "      <td>17.9</td>\n",
              "    </tr>\n",
              "  </tbody>\n",
              "</table>\n",
              "</div>"
            ],
            "text/plain": [
              "      TV  Radio  Newspaper  Sales\n",
              "0  230.1   37.8       69.2   22.1\n",
              "1   44.5   39.3       45.1   10.4\n",
              "2   17.2   45.9       69.3   12.0\n",
              "3  151.5   41.3       58.5   16.5\n",
              "4  180.8   10.8       58.4   17.9"
            ]
          },
          "execution_count": 33,
          "metadata": {},
          "output_type": "execute_result"
        }
      ],
      "source": [
        "data_set.head()"
      ]
    },
    {
      "cell_type": "code",
      "execution_count": null,
      "id": "b573db60",
      "metadata": {
        "id": "b573db60"
      },
      "outputs": [],
      "source": [
        "#Extracting Independent and dependent Variable\n",
        "x= data_set.iloc[:, :-1].values\n",
        "y= data_set.iloc[:, 3].values"
      ]
    },
    {
      "cell_type": "code",
      "execution_count": null,
      "id": "a2193535",
      "metadata": {
        "id": "a2193535"
      },
      "outputs": [],
      "source": [
        "# Splitting the dataset into training and test set.\n",
        "from sklearn.model_selection import train_test_split\n",
        "x_train, x_test, y_train, y_test= train_test_split(x, y, test_size= 0.2, random_state=0)"
      ]
    },
    {
      "cell_type": "code",
      "execution_count": null,
      "id": "5c93bd04",
      "metadata": {
        "id": "5c93bd04",
        "outputId": "cc92cff4-9970-47b1-d11a-0fd1dc70f285"
      },
      "outputs": [
        {
          "data": {
            "text/plain": [
              "LinearRegression(copy_X=True, fit_intercept=True, n_jobs=None, normalize=False)"
            ]
          },
          "execution_count": 37,
          "metadata": {},
          "output_type": "execute_result"
        }
      ],
      "source": [
        "#Fitting the MLR model to the training set:\n",
        "from sklearn.linear_model import LinearRegression\n",
        "regressor= LinearRegression()\n",
        "regressor.fit(x_train, y_train)"
      ]
    },
    {
      "cell_type": "code",
      "execution_count": null,
      "id": "01fced1b",
      "metadata": {
        "id": "01fced1b"
      },
      "outputs": [],
      "source": [
        "#Predicting the Test set result;\n",
        "y_pred= regressor.predict(x_test)"
      ]
    },
    {
      "cell_type": "code",
      "execution_count": null,
      "id": "e5117a08",
      "metadata": {
        "id": "e5117a08",
        "outputId": "94f8b644-65ff-4645-8147-3affa5aed621"
      },
      "outputs": [
        {
          "name": "stdout",
          "output_type": "stream",
          "text": [
            "Train Score:  0.9132130769530317\n",
            "Test Score:  0.8645053923967725\n"
          ]
        }
      ],
      "source": [
        "print('Train Score: ', regressor.score(x_train, y_train))\n",
        "print('Test Score: ', regressor.score(x_test, y_test))"
      ]
    },
    {
      "cell_type": "code",
      "execution_count": null,
      "id": "5da61c32",
      "metadata": {
        "id": "5da61c32",
        "outputId": "e5052093-6242-4c26-e5ca-e0bd693a35c9"
      },
      "outputs": [
        {
          "name": "stdout",
          "output_type": "stream",
          "text": [
            "Mean squared error: 4.522552562041289\n",
            "R square: 0.8645053923967725\n"
          ]
        }
      ],
      "source": [
        "#  MSE, R2\n",
        "print(\"Mean squared error: {}\".format(mean_squared_error(y_test, y_pred))) # comparing y_pred with y_test\n",
        "print(\"R square: {}\".format(r2_score(y_test, y_pred)))"
      ]
    },
    {
      "cell_type": "code",
      "execution_count": null,
      "id": "d8c02245",
      "metadata": {
        "id": "d8c02245",
        "outputId": "621bc5d1-a81f-4ff2-c10e-98582a5fae70"
      },
      "outputs": [
        {
          "name": "stdout",
          "output_type": "stream",
          "text": [
            "slope: [ 0.05368006  0.11152624 -0.00351166]\n",
            "y-intercept:  4.7732052032698356\n"
          ]
        }
      ],
      "source": [
        "# Regression coefficients\n",
        "print('slope:', regressor.coef_)\n",
        "print(\"y-intercept: \", regressor.intercept_)"
      ]
    },
    {
      "cell_type": "markdown",
      "id": "e442d2f6",
      "metadata": {
        "id": "e442d2f6"
      },
      "source": [
        "# 3.Polynomial Regression"
      ]
    },
    {
      "cell_type": "code",
      "execution_count": null,
      "id": "70efd0c9",
      "metadata": {
        "id": "70efd0c9",
        "outputId": "d3f312df-41b8-484e-9694-b453853bc1c4"
      },
      "outputs": [
        {
          "data": {
            "text/html": [
              "<div>\n",
              "<style scoped>\n",
              "    .dataframe tbody tr th:only-of-type {\n",
              "        vertical-align: middle;\n",
              "    }\n",
              "\n",
              "    .dataframe tbody tr th {\n",
              "        vertical-align: top;\n",
              "    }\n",
              "\n",
              "    .dataframe thead th {\n",
              "        text-align: right;\n",
              "    }\n",
              "</style>\n",
              "<table border=\"1\" class=\"dataframe\">\n",
              "  <thead>\n",
              "    <tr style=\"text-align: right;\">\n",
              "      <th></th>\n",
              "      <th>YearsExperience</th>\n",
              "      <th>Salary</th>\n",
              "    </tr>\n",
              "  </thead>\n",
              "  <tbody>\n",
              "    <tr>\n",
              "      <th>0</th>\n",
              "      <td>1.1</td>\n",
              "      <td>39343</td>\n",
              "    </tr>\n",
              "    <tr>\n",
              "      <th>1</th>\n",
              "      <td>1.3</td>\n",
              "      <td>46205</td>\n",
              "    </tr>\n",
              "    <tr>\n",
              "      <th>2</th>\n",
              "      <td>1.5</td>\n",
              "      <td>37731</td>\n",
              "    </tr>\n",
              "    <tr>\n",
              "      <th>3</th>\n",
              "      <td>2.0</td>\n",
              "      <td>43525</td>\n",
              "    </tr>\n",
              "    <tr>\n",
              "      <th>4</th>\n",
              "      <td>2.2</td>\n",
              "      <td>39891</td>\n",
              "    </tr>\n",
              "  </tbody>\n",
              "</table>\n",
              "</div>"
            ],
            "text/plain": [
              "   YearsExperience  Salary\n",
              "0              1.1   39343\n",
              "1              1.3   46205\n",
              "2              1.5   37731\n",
              "3              2.0   43525\n",
              "4              2.2   39891"
            ]
          },
          "execution_count": 46,
          "metadata": {},
          "output_type": "execute_result"
        }
      ],
      "source": [
        "#importing datasets\n",
        "data_set= pd.read_csv('Salary_Data.csv')\n",
        "data_set.head()"
      ]
    },
    {
      "cell_type": "code",
      "execution_count": null,
      "id": "652a6929",
      "metadata": {
        "id": "652a6929"
      },
      "outputs": [],
      "source": [
        "X = dataset.iloc[:, :-1] #Take all the rows and all the columns except last one\n",
        "y = dataset.iloc[:, -1] #Take all the rows and the last column as the result"
      ]
    },
    {
      "cell_type": "code",
      "execution_count": null,
      "id": "5669bcd6",
      "metadata": {
        "id": "5669bcd6",
        "outputId": "25914887-e9fc-4534-d4e8-261b5f05b8b2"
      },
      "outputs": [
        {
          "data": {
            "text/plain": [
              "LinearRegression(copy_X=True, fit_intercept=True, n_jobs=None, normalize=False)"
            ]
          },
          "execution_count": 51,
          "metadata": {},
          "output_type": "execute_result"
        }
      ],
      "source": [
        "# Training the Linear Regression model on the whole dataset\n",
        "from sklearn.linear_model import LinearRegression\n",
        "lin_reg = LinearRegression()\n",
        "lin_reg.fit(X, y)"
      ]
    },
    {
      "cell_type": "code",
      "execution_count": null,
      "id": "94c3fee5",
      "metadata": {
        "id": "94c3fee5",
        "outputId": "58f4cb9f-dafd-401f-be3d-f00ffab9cba4"
      },
      "outputs": [
        {
          "data": {
            "text/plain": [
              "LinearRegression(copy_X=True, fit_intercept=True, n_jobs=None, normalize=False)"
            ]
          },
          "execution_count": 52,
          "metadata": {},
          "output_type": "execute_result"
        }
      ],
      "source": [
        "# Training the Polynomial Regression model on the whole dataset\n",
        "from sklearn.preprocessing import PolynomialFeatures\n",
        "poly_reg = PolynomialFeatures(degree = 4)\n",
        "X_poly = poly_reg.fit_transform(X)\n",
        "lin_reg_2 = LinearRegression()\n",
        "lin_reg_2.fit(X_poly, y)"
      ]
    },
    {
      "cell_type": "code",
      "execution_count": null,
      "id": "df4f7191",
      "metadata": {
        "id": "df4f7191",
        "outputId": "9bb744c9-c9d8-4a88-efb8-957adf3a7088"
      },
      "outputs": [
        {
          "data": {
            "image/png": "[encoded data removed]",
            "text/plain": [
              "<Figure size 432x288 with 1 Axes>"
            ]
          },
          "metadata": {},
          "output_type": "display_data"
        }
      ],
      "source": [
        "# Visualising the Linear Regression results\n",
        "plt.scatter(X, y, color = 'red')\n",
        "plt.plot(X, lin_reg.predict(X), color = 'blue')\n",
        "plt.title('Linear Regression')\n",
        "plt.xlabel('Experience')\n",
        "plt.ylabel('Salary')\n",
        "plt.show()"
      ]
    },
    {
      "cell_type": "code",
      "execution_count": null,
      "id": "a3768e59",
      "metadata": {
        "id": "a3768e59",
        "outputId": "05b48f68-d2d3-4659-c3dc-ac3b6a9c3116"
      },
      "outputs": [
        {
          "data": {
            "image/png": "[encoded data removed]",
            "text/plain": [
              "<Figure size 432x288 with 1 Axes>"
            ]
          },
          "metadata": {},
          "output_type": "display_data"
        }
      ],
      "source": [
        "# Visualising the Polynomial Regression results\n",
        "plt.scatter(X, y, color = 'red')\n",
        "plt.plot(X, lin_reg_2.predict(poly_reg.fit_transform(X)), color = 'blue')\n",
        "plt.title('Polynomial Regression')\n",
        "plt.xlabel('Experience')\n",
        "plt.ylabel('Salary')\n",
        "plt.show()"
      ]
    },
    {
      "cell_type": "code",
      "execution_count": null,
      "id": "4cda2aed",
      "metadata": {
        "id": "4cda2aed",
        "outputId": "4bdc8bcf-497f-45e4-e2da-4fe1b897742f"
      },
      "outputs": [
        {
          "name": "stdout",
          "output_type": "stream",
          "text": [
            "slope: [ 0.00000000e+00 -7.23291940e-02  1.33091714e-04 -9.23545979e-08\n",
            "  2.20576751e-11]\n",
            "y-intercept:  12.978447291193067\n"
          ]
        }
      ],
      "source": [
        "# Regression coefficients\n",
        "print('slope:', lin_reg_2.coef_)\n",
        "print(\"y-intercept: \", lin_reg_2.intercept_)"
      ]
    },
    {
      "cell_type": "code",
      "execution_count": null,
      "id": "b00f472f",
      "metadata": {
        "id": "b00f472f"
      },
      "outputs": [],
      "source": [
        "# Splitting the dataset into training and test set.\n",
        "from sklearn.model_selection import train_test_split\n",
        "x_train, x_test, y_train, y_test= train_test_split(X, y, test_size= 0.2, random_state=0)"
      ]
    },
    {
      "cell_type": "code",
      "execution_count": null,
      "id": "25045883",
      "metadata": {
        "id": "25045883"
      },
      "outputs": [],
      "source": [
        "#Fit polynomial model\n",
        "lin_reg_2.fit(x_train, y_train)\n",
        "#Predicting the Test set result;\n",
        "y_pred_poly= lin_reg_2.predict(x_test)"
      ]
    },
    {
      "cell_type": "code",
      "execution_count": null,
      "id": "1957bace",
      "metadata": {
        "id": "1957bace",
        "outputId": "ae8e0b99-2b1c-4fec-8ad6-40c88595c716"
      },
      "outputs": [
        {
          "name": "stdout",
          "output_type": "stream",
          "text": [
            "Mean squared error: 0.3566707857170987\n",
            "R square: 0.86422313614636\n"
          ]
        }
      ],
      "source": [
        "#  MSE, R2\n",
        "print(\"Mean squared error: {}\".format(mean_squared_error(y_test, y_pred_poly))) # comparing y_pred with y_test\n",
        "print(\"R square: {}\".format(r2_score(y_test, y_pred_poly)))"
      ]
    },
    {
      "cell_type": "markdown",
      "id": "9d054013",
      "metadata": {
        "id": "9d054013"
      },
      "source": [
        "# 4.Logistic Regression"
      ]
    },
    {
      "cell_type": "code",
      "execution_count": null,
      "id": "f3dfb033",
      "metadata": {
        "id": "f3dfb033",
        "outputId": "666f53ca-3046-4cdc-8f19-b486b7aaa437"
      },
      "outputs": [
        {
          "data": {
            "text/html": [
              "<div>\n",
              "<style scoped>\n",
              "    .dataframe tbody tr th:only-of-type {\n",
              "        vertical-align: middle;\n",
              "    }\n",
              "\n",
              "    .dataframe tbody tr th {\n",
              "        vertical-align: top;\n",
              "    }\n",
              "\n",
              "    .dataframe thead th {\n",
              "        text-align: right;\n",
              "    }\n",
              "</style>\n",
              "<table border=\"1\" class=\"dataframe\">\n",
              "  <thead>\n",
              "    <tr style=\"text-align: right;\">\n",
              "      <th></th>\n",
              "      <th>Id</th>\n",
              "      <th>SepalLengthCm</th>\n",
              "      <th>SepalWidthCm</th>\n",
              "      <th>PetalLengthCm</th>\n",
              "      <th>PetalWidthCm</th>\n",
              "      <th>Species</th>\n",
              "    </tr>\n",
              "  </thead>\n",
              "  <tbody>\n",
              "    <tr>\n",
              "      <th>0</th>\n",
              "      <td>1</td>\n",
              "      <td>5.1</td>\n",
              "      <td>3.5</td>\n",
              "      <td>1.4</td>\n",
              "      <td>0.2</td>\n",
              "      <td>Iris-setosa</td>\n",
              "    </tr>\n",
              "    <tr>\n",
              "      <th>1</th>\n",
              "      <td>2</td>\n",
              "      <td>4.9</td>\n",
              "      <td>3.0</td>\n",
              "      <td>1.4</td>\n",
              "      <td>0.2</td>\n",
              "      <td>Iris-setosa</td>\n",
              "    </tr>\n",
              "  </tbody>\n",
              "</table>\n",
              "</div>"
            ],
            "text/plain": [
              "   Id  SepalLengthCm  SepalWidthCm  PetalLengthCm  PetalWidthCm      Species\n",
              "0   1            5.1           3.5            1.4           0.2  Iris-setosa\n",
              "1   2            4.9           3.0            1.4           0.2  Iris-setosa"
            ]
          },
          "execution_count": 125,
          "metadata": {},
          "output_type": "execute_result"
        }
      ],
      "source": [
        "#importing datasets\n",
        "data_set= pd.read_csv('Iris.csv')\n",
        "data_set.head(2)"
      ]
    },
    {
      "cell_type": "code",
      "execution_count": null,
      "id": "b0f32e78",
      "metadata": {
        "id": "b0f32e78"
      },
      "outputs": [],
      "source": [
        "X = data_set.iloc[:, :-1]\n",
        "y =data_set.iloc[:, -1]"
      ]
    },
    {
      "cell_type": "markdown",
      "id": "6bd7d25a",
      "metadata": {
        "id": "6bd7d25a"
      },
      "source": [
        "# Label Encoder"
      ]
    },
    {
      "cell_type": "code",
      "execution_count": null,
      "id": "5a4fc6a3",
      "metadata": {
        "id": "5a4fc6a3"
      },
      "outputs": [],
      "source": [
        "from sklearn import preprocessing\n",
        "le.fit(y)\n",
        "label_Iris = le.transform(y)\n"
      ]
    },
    {
      "cell_type": "code",
      "execution_count": null,
      "id": "da189755",
      "metadata": {
        "id": "da189755",
        "outputId": "eed2fa26-8021-448d-a414-732a23b7c4a9"
      },
      "outputs": [
        {
          "name": "stderr",
          "output_type": "stream",
          "text": [
            "/usr/local/lib64/python3.6/site-packages/sklearn/linear_model/logistic.py:432: FutureWarning: Default solver will be changed to 'lbfgs' in 0.22. Specify a solver to silence this warning.\n",
            "  FutureWarning)\n",
            "/usr/local/lib64/python3.6/site-packages/sklearn/linear_model/logistic.py:469: FutureWarning: Default multi_class will be changed to 'auto' in 0.22. Specify the multi_class option to silence this warning.\n",
            "  \"this warning.\", FutureWarning)\n"
          ]
        },
        {
          "data": {
            "text/plain": [
              "LogisticRegression(C=1.0, class_weight=None, dual=False, fit_intercept=True,\n",
              "                   intercept_scaling=1, l1_ratio=None, max_iter=100,\n",
              "                   multi_class='warn', n_jobs=None, penalty='l2',\n",
              "                   random_state=0, solver='warn', tol=0.0001, verbose=0,\n",
              "                   warm_start=False)"
            ]
          },
          "execution_count": 133,
          "metadata": {},
          "output_type": "execute_result"
        }
      ],
      "source": [
        "from sklearn.linear_model import LogisticRegression\n",
        "# Splitting the dataset into training and test set.\n",
        "from sklearn.model_selection import train_test_split\n",
        "x_train, x_test, y_train, y_test= train_test_split(X, y, test_size= 0.2, random_state=0)\n",
        "classifier = LogisticRegression(random_state = 0)\n",
        "classifier.fit(x_train, y_train)"
      ]
    },
    {
      "cell_type": "code",
      "execution_count": null,
      "id": "a9e7c417",
      "metadata": {
        "id": "a9e7c417"
      },
      "outputs": [],
      "source": [
        "y_pred = classifier.predict(x_test)"
      ]
    },
    {
      "cell_type": "code",
      "execution_count": null,
      "id": "6b8d51d8",
      "metadata": {
        "id": "6b8d51d8",
        "outputId": "a8c6a7b2-ae99-4fbf-9f53-45bd26b70c76"
      },
      "outputs": [
        {
          "name": "stdout",
          "output_type": "stream",
          "text": [
            "Accuracy :  0.9333333333333333\n"
          ]
        }
      ],
      "source": [
        "from sklearn.metrics import accuracy_score\n",
        "print (\"Accuracy : \", accuracy_score(y_test, y_pred))"
      ]
    },
    {
      "cell_type": "markdown",
      "id": "cf1fb54a",
      "metadata": {
        "id": "cf1fb54a"
      },
      "source": [
        "Do the comparison of regression techniques"
      ]
    },
    {
      "cell_type": "code",
      "execution_count": null,
      "id": "32089e09",
      "metadata": {
        "id": "32089e09",
        "outputId": "e5edc591-4475-4605-beb3-fe518a6cd069"
      },
      "outputs": [
        {
          "data": {
            "text/html": [
              "<div>\n",
              "<style scoped>\n",
              "    .dataframe tbody tr th:only-of-type {\n",
              "        vertical-align: middle;\n",
              "    }\n",
              "\n",
              "    .dataframe tbody tr th {\n",
              "        vertical-align: top;\n",
              "    }\n",
              "\n",
              "    .dataframe thead th {\n",
              "        text-align: right;\n",
              "    }\n",
              "</style>\n",
              "<table border=\"1\" class=\"dataframe\">\n",
              "  <thead>\n",
              "    <tr style=\"text-align: right;\">\n",
              "      <th></th>\n",
              "      <th>Price</th>\n",
              "      <th>Age</th>\n",
              "      <th>KM</th>\n",
              "      <th>FuelType</th>\n",
              "      <th>HP</th>\n",
              "      <th>MetColor</th>\n",
              "      <th>Automatic</th>\n",
              "      <th>CC</th>\n",
              "      <th>Doors</th>\n",
              "      <th>Weight</th>\n",
              "    </tr>\n",
              "  </thead>\n",
              "  <tbody>\n",
              "    <tr>\n",
              "      <th>0</th>\n",
              "      <td>13500</td>\n",
              "      <td>23</td>\n",
              "      <td>46986</td>\n",
              "      <td>Diesel</td>\n",
              "      <td>90</td>\n",
              "      <td>1</td>\n",
              "      <td>0</td>\n",
              "      <td>2000</td>\n",
              "      <td>3</td>\n",
              "      <td>1165</td>\n",
              "    </tr>\n",
              "    <tr>\n",
              "      <th>1</th>\n",
              "      <td>13750</td>\n",
              "      <td>23</td>\n",
              "      <td>72937</td>\n",
              "      <td>Diesel</td>\n",
              "      <td>90</td>\n",
              "      <td>1</td>\n",
              "      <td>0</td>\n",
              "      <td>2000</td>\n",
              "      <td>3</td>\n",
              "      <td>1165</td>\n",
              "    </tr>\n",
              "  </tbody>\n",
              "</table>\n",
              "</div>"
            ],
            "text/plain": [
              "   Price  Age     KM FuelType  HP  MetColor  Automatic    CC  Doors  Weight\n",
              "0  13500   23  46986   Diesel  90         1          0  2000      3    1165\n",
              "1  13750   23  72937   Diesel  90         1          0  2000      3    1165"
            ]
          },
          "execution_count": 115,
          "metadata": {},
          "output_type": "execute_result"
        }
      ],
      "source": [
        "#importing datasets\n",
        "data_set= pd.read_csv('Toyota.csv')\n",
        "data_set.head(2)"
      ]
    },
    {
      "cell_type": "code",
      "execution_count": null,
      "id": "bedbeef9",
      "metadata": {
        "id": "bedbeef9"
      },
      "outputs": [],
      "source": [
        "label = data_set['FuelType']\n",
        "from sklearn import preprocessing\n",
        "le.fit(label)\n",
        "label_le = le.transform(label)\n"
      ]
    },
    {
      "cell_type": "code",
      "execution_count": null,
      "id": "a38fd1bf",
      "metadata": {
        "id": "a38fd1bf"
      },
      "outputs": [],
      "source": [
        "data_new_set = data_set.copy()\n",
        "data_new_set.drop(['FuelType'],inplace =True, axis=1)"
      ]
    },
    {
      "cell_type": "code",
      "execution_count": null,
      "id": "2a300e9a",
      "metadata": {
        "id": "2a300e9a",
        "outputId": "311e1ded-8f56-4688-f96a-861c5ca510f7"
      },
      "outputs": [
        {
          "data": {
            "text/html": [
              "<div>\n",
              "<style scoped>\n",
              "    .dataframe tbody tr th:only-of-type {\n",
              "        vertical-align: middle;\n",
              "    }\n",
              "\n",
              "    .dataframe tbody tr th {\n",
              "        vertical-align: top;\n",
              "    }\n",
              "\n",
              "    .dataframe thead th {\n",
              "        text-align: right;\n",
              "    }\n",
              "</style>\n",
              "<table border=\"1\" class=\"dataframe\">\n",
              "  <thead>\n",
              "    <tr style=\"text-align: right;\">\n",
              "      <th></th>\n",
              "      <th>Price</th>\n",
              "      <th>Age</th>\n",
              "      <th>KM</th>\n",
              "      <th>HP</th>\n",
              "      <th>MetColor</th>\n",
              "      <th>Automatic</th>\n",
              "      <th>CC</th>\n",
              "      <th>Doors</th>\n",
              "      <th>Weight</th>\n",
              "    </tr>\n",
              "  </thead>\n",
              "  <tbody>\n",
              "    <tr>\n",
              "      <th>0</th>\n",
              "      <td>13500</td>\n",
              "      <td>23</td>\n",
              "      <td>46986</td>\n",
              "      <td>90</td>\n",
              "      <td>1</td>\n",
              "      <td>0</td>\n",
              "      <td>2000</td>\n",
              "      <td>3</td>\n",
              "      <td>1165</td>\n",
              "    </tr>\n",
              "  </tbody>\n",
              "</table>\n",
              "</div>"
            ],
            "text/plain": [
              "   Price  Age     KM  HP  MetColor  Automatic    CC  Doors  Weight\n",
              "0  13500   23  46986  90         1          0  2000      3    1165"
            ]
          },
          "execution_count": 76,
          "metadata": {},
          "output_type": "execute_result"
        }
      ],
      "source": [
        "data_new_set.head(1)"
      ]
    },
    {
      "cell_type": "code",
      "execution_count": null,
      "id": "cb922ade",
      "metadata": {
        "id": "cb922ade",
        "outputId": "29637a33-aa6f-4a3c-c71e-31d956fc9a13"
      },
      "outputs": [
        {
          "data": {
            "image/png": "[encoded data removed]",
            "text/plain": [
              "<Figure size 720x720 with 1 Axes>"
            ]
          },
          "metadata": {},
          "output_type": "display_data"
        }
      ],
      "source": [
        "# form correlation matrix\n",
        "matrix = data_new_set.corr()\n",
        "matrix\n",
        "fig, ax = plt.subplots(1,1, figsize=(10,10))\n",
        "#plotting the heatmap for correlation\n",
        "ax = sns.heatmap(data_new_set.corr(), annot=True,linewidths=.5,cmap= 'coolwarm',vmin=-1, vmax=1,\n",
        "                 annot_kws={'fontsize':11, 'fontweight':'bold'},square=True,fmt='.2g',cbar=False)\n",
        "plt.show()"
      ]
    },
    {
      "cell_type": "code",
      "execution_count": null,
      "id": "6e656802",
      "metadata": {
        "id": "6e656802"
      },
      "outputs": [],
      "source": []
    },
    {
      "cell_type": "code",
      "execution_count": null,
      "id": "675abcd8",
      "metadata": {
        "id": "675abcd8"
      },
      "outputs": [],
      "source": []
    }
  ],
  "metadata": {
    "kernelspec": {
      "display_name": "Python 3",
      "language": "python",
      "name": "python3"
    },
    "language_info": {
      "codemirror_mode": {
        "name": "ipython",
        "version": 3
      },
      "file_extension": ".py",
      "mimetype": "text/x-python",
      "name": "python",
      "nbconvert_exporter": "python",
      "pygments_lexer": "ipython3",
      "version": "3.6.8"
    },
    "colab": {
      "provenance": []
    }
  },
  "nbformat": 4,
  "nbformat_minor": 5
}